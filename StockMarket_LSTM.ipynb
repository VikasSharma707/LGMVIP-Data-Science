{
  "nbformat": 4,
  "nbformat_minor": 0,
  "metadata": {
    "colab": {
      "name": "StockMarket_LSTM.ipynb",
      "provenance": [],
      "collapsed_sections": [],
      "authorship_tag": "ABX9TyOYR8iJrhYyHYks0PEazYql",
      "include_colab_link": true
    },
    "kernelspec": {
      "name": "python3",
      "display_name": "Python 3"
    },
    "language_info": {
      "name": "python"
    },
    "accelerator": "GPU"
  },
  "cells": [
    {
      "cell_type": "markdown",
      "metadata": {
        "id": "view-in-github",
        "colab_type": "text"
      },
      "source": [
        "<a href=\"https://colab.research.google.com/github/VikasSharma707/LGMVIP-Data-Science/blob/main/StockMarket_LSTM.ipynb\" target=\"_parent\"><img src=\"https://colab.research.google.com/assets/colab-badge.svg\" alt=\"Open In Colab\"/></a>"
      ]
    },
    {
      "cell_type": "markdown",
      "metadata": {
        "id": "cbNPF0Ri3I8R"
      },
      "source": [
        "# **LGM-VIP Data Science Internship Programme 2021**\n",
        "\n",
        "# **BEGINNER LEVEL TASK**\n",
        "# **Name: Stock Market Prediction And Forecasting Using Stacked LSTM**"
      ]
    },
    {
      "cell_type": "code",
      "metadata": {
        "id": "EcTMYBThSfU-"
      },
      "source": [
        "import pandas as pd\n"
      ],
      "execution_count": 1,
      "outputs": []
    },
    {
      "cell_type": "markdown",
      "metadata": {
        "id": "TA4C-uuQ3-Cz"
      },
      "source": [
        "Reading the csv file"
      ]
    },
    {
      "cell_type": "code",
      "metadata": {
        "colab": {
          "base_uri": "https://localhost:8080/",
          "height": 206
        },
        "id": "5p3l7YdSUPeJ",
        "outputId": "453b5c63-6e5f-4c6a-b5df-c490178c5fda"
      },
      "source": [
        "df = pd.read_csv('https://raw.githubusercontent.com/mwitiderrick/stockprice/master/NSE-TATAGLOBAL.csv')\n",
        "df.head()"
      ],
      "execution_count": 2,
      "outputs": [
        {
          "output_type": "execute_result",
          "data": {
            "text/html": [
              "<div>\n",
              "<style scoped>\n",
              "    .dataframe tbody tr th:only-of-type {\n",
              "        vertical-align: middle;\n",
              "    }\n",
              "\n",
              "    .dataframe tbody tr th {\n",
              "        vertical-align: top;\n",
              "    }\n",
              "\n",
              "    .dataframe thead th {\n",
              "        text-align: right;\n",
              "    }\n",
              "</style>\n",
              "<table border=\"1\" class=\"dataframe\">\n",
              "  <thead>\n",
              "    <tr style=\"text-align: right;\">\n",
              "      <th></th>\n",
              "      <th>Date</th>\n",
              "      <th>Open</th>\n",
              "      <th>High</th>\n",
              "      <th>Low</th>\n",
              "      <th>Last</th>\n",
              "      <th>Close</th>\n",
              "      <th>Total Trade Quantity</th>\n",
              "      <th>Turnover (Lacs)</th>\n",
              "    </tr>\n",
              "  </thead>\n",
              "  <tbody>\n",
              "    <tr>\n",
              "      <th>0</th>\n",
              "      <td>2018-09-28</td>\n",
              "      <td>234.05</td>\n",
              "      <td>235.95</td>\n",
              "      <td>230.20</td>\n",
              "      <td>233.50</td>\n",
              "      <td>233.75</td>\n",
              "      <td>3069914</td>\n",
              "      <td>7162.35</td>\n",
              "    </tr>\n",
              "    <tr>\n",
              "      <th>1</th>\n",
              "      <td>2018-09-27</td>\n",
              "      <td>234.55</td>\n",
              "      <td>236.80</td>\n",
              "      <td>231.10</td>\n",
              "      <td>233.80</td>\n",
              "      <td>233.25</td>\n",
              "      <td>5082859</td>\n",
              "      <td>11859.95</td>\n",
              "    </tr>\n",
              "    <tr>\n",
              "      <th>2</th>\n",
              "      <td>2018-09-26</td>\n",
              "      <td>240.00</td>\n",
              "      <td>240.00</td>\n",
              "      <td>232.50</td>\n",
              "      <td>235.00</td>\n",
              "      <td>234.25</td>\n",
              "      <td>2240909</td>\n",
              "      <td>5248.60</td>\n",
              "    </tr>\n",
              "    <tr>\n",
              "      <th>3</th>\n",
              "      <td>2018-09-25</td>\n",
              "      <td>233.30</td>\n",
              "      <td>236.75</td>\n",
              "      <td>232.00</td>\n",
              "      <td>236.25</td>\n",
              "      <td>236.10</td>\n",
              "      <td>2349368</td>\n",
              "      <td>5503.90</td>\n",
              "    </tr>\n",
              "    <tr>\n",
              "      <th>4</th>\n",
              "      <td>2018-09-24</td>\n",
              "      <td>233.55</td>\n",
              "      <td>239.20</td>\n",
              "      <td>230.75</td>\n",
              "      <td>234.00</td>\n",
              "      <td>233.30</td>\n",
              "      <td>3423509</td>\n",
              "      <td>7999.55</td>\n",
              "    </tr>\n",
              "  </tbody>\n",
              "</table>\n",
              "</div>"
            ],
            "text/plain": [
              "         Date    Open    High  ...   Close  Total Trade Quantity  Turnover (Lacs)\n",
              "0  2018-09-28  234.05  235.95  ...  233.75               3069914          7162.35\n",
              "1  2018-09-27  234.55  236.80  ...  233.25               5082859         11859.95\n",
              "2  2018-09-26  240.00  240.00  ...  234.25               2240909          5248.60\n",
              "3  2018-09-25  233.30  236.75  ...  236.10               2349368          5503.90\n",
              "4  2018-09-24  233.55  239.20  ...  233.30               3423509          7999.55\n",
              "\n",
              "[5 rows x 8 columns]"
            ]
          },
          "metadata": {},
          "execution_count": 2
        }
      ]
    },
    {
      "cell_type": "markdown",
      "metadata": {
        "id": "pjfrpfU-4P-W"
      },
      "source": [
        "**For the prediction select the 'Close' Column into a new data frame**"
      ]
    },
    {
      "cell_type": "code",
      "metadata": {
        "colab": {
          "base_uri": "https://localhost:8080/"
        },
        "id": "DSB0FN84Uefe",
        "outputId": "a79a92ba-6f40-410b-b09f-f5a06c7149ad"
      },
      "source": [
        "df = df.sort_values(by=['Date'])\n",
        "df1 = df.reset_index()['Close']\n",
        "df1.shape"
      ],
      "execution_count": 3,
      "outputs": [
        {
          "output_type": "execute_result",
          "data": {
            "text/plain": [
              "(2035,)"
            ]
          },
          "metadata": {},
          "execution_count": 3
        }
      ]
    },
    {
      "cell_type": "code",
      "metadata": {
        "colab": {
          "base_uri": "https://localhost:8080/",
          "height": 265
        },
        "id": "olqi9mf8UyN6",
        "outputId": "786248c9-40ec-4b49-ec80-110bbfdecc18"
      },
      "source": [
        "import matplotlib.pyplot as plt\n",
        "plt.plot(df1);\n"
      ],
      "execution_count": 4,
      "outputs": [
        {
          "output_type": "display_data",
          "data": {
            "image/png": "[encoded data removed]",
            "text/plain": [
              "<Figure size 432x288 with 1 Axes>"
            ]
          },
          "metadata": {
            "needs_background": "light"
          }
        }
      ]
    },
    {
      "cell_type": "code",
      "metadata": {
        "id": "oDLs1Z4DVgHW"
      },
      "source": [
        "#LSTM are sensetive to scale of the data. so we apply min-max scaler"
      ],
      "execution_count": 5,
      "outputs": []
    },
    {
      "cell_type": "markdown",
      "metadata": {
        "id": "4GBNGrtf4mop"
      },
      "source": [
        "**LSTM is sensetive to Normalization, so the scale..used MinMaxScaler**"
      ]
    },
    {
      "cell_type": "code",
      "metadata": {
        "colab": {
          "base_uri": "https://localhost:8080/"
        },
        "id": "bL_2X4xQahj1",
        "outputId": "96584122-11d0-477c-9398-c1ccbfde87b3"
      },
      "source": [
        "import numpy as np\n",
        "from sklearn.preprocessing import MinMaxScaler\n",
        "\n",
        "scaler = MinMaxScaler(feature_range=(0,1))\n",
        "df1 = scaler.fit_transform(np.array(df1).reshape(-1,1))\n",
        "df1"
      ],
      "execution_count": 6,
      "outputs": [
        {
          "output_type": "execute_result",
          "data": {
            "text/plain": [
              "array([[0.16584967],\n",
              "       [0.16319444],\n",
              "       [0.1621732 ],\n",
              "       ...,\n",
              "       [0.62622549],\n",
              "       [0.62214052],\n",
              "       [0.62418301]])"
            ]
          },
          "metadata": {},
          "execution_count": 6
        }
      ]
    },
    {
      "cell_type": "code",
      "metadata": {
        "colab": {
          "base_uri": "https://localhost:8080/"
        },
        "id": "Djf2qVgzakYA",
        "outputId": "744bc782-a03a-4571-e19c-90680a68750a"
      },
      "source": [
        "#train test split\n",
        "training_size = int(len(df1)*0.65)\n",
        "test_size = len(df1)-training_size\n",
        "train_data, test_data = df1[:training_size, :], df1[training_size:len(df1), :1]\n",
        "training_size, test_size"
      ],
      "execution_count": 7,
      "outputs": [
        {
          "output_type": "execute_result",
          "data": {
            "text/plain": [
              "(1322, 713)"
            ]
          },
          "metadata": {},
          "execution_count": 7
        }
      ]
    },
    {
      "cell_type": "code",
      "metadata": {
        "id": "QxjTWKXhg2zc"
      },
      "source": [
        "import numpy\n",
        "\n",
        "#convert an array of values into a datasets matrix\n",
        "def create_dataset(dataset, time_step=1):\n",
        "  dataX, dataY = [], []\n",
        "  for i in range(len(dataset)-time_step-1):\n",
        "    a = dataset[i:(i+time_step), 0]\n",
        "    dataX.append(a)\n",
        "    dataY.append(dataset[i+time_step, 0])\n",
        "  return numpy.array(dataX), numpy.array(dataY)"
      ],
      "execution_count": 8,
      "outputs": []
    },
    {
      "cell_type": "code",
      "metadata": {
        "id": "nsCnyFagiZAW"
      },
      "source": [
        "time_step=100\n",
        "X_train, y_train = create_dataset(train_data, time_step)\n",
        "X_test, y_test = create_dataset(test_data, time_step)"
      ],
      "execution_count": 9,
      "outputs": []
    },
    {
      "cell_type": "code",
      "metadata": {
        "colab": {
          "base_uri": "https://localhost:8080/"
        },
        "id": "xaZCJyrcl_p8",
        "outputId": "ddfde6fb-06e5-4bdc-a3c0-fa57d76ed2aa"
      },
      "source": [
        "print(X_train.shape), print(y_train.shape)"
      ],
      "execution_count": 10,
      "outputs": [
        {
          "output_type": "stream",
          "name": "stdout",
          "text": [
            "(1221, 100)\n",
            "(1221,)\n"
          ]
        },
        {
          "output_type": "execute_result",
          "data": {
            "text/plain": [
              "(None, None)"
            ]
          },
          "metadata": {},
          "execution_count": 10
        }
      ]
    },
    {
      "cell_type": "code",
      "metadata": {
        "colab": {
          "base_uri": "https://localhost:8080/"
        },
        "id": "tBFaiaXnmFTY",
        "outputId": "d4e34b5a-e393-45e9-838e-2d0cd26c3ecc"
      },
      "source": [
        "print(X_test.shape), print(y_test.shape)"
      ],
      "execution_count": 11,
      "outputs": [
        {
          "output_type": "stream",
          "name": "stdout",
          "text": [
            "(612, 100)\n",
            "(612,)\n"
          ]
        },
        {
          "output_type": "execute_result",
          "data": {
            "text/plain": [
              "(None, None)"
            ]
          },
          "metadata": {},
          "execution_count": 11
        }
      ]
    },
    {
      "cell_type": "code",
      "metadata": {
        "id": "miXnc6dLonof"
      },
      "source": [
        "#reshape data\n",
        "X_train = X_train.reshape(X_train.shape[0], X_test.shape[1], 1)\n",
        "X_test = X_test.reshape(X_test.shape[0], X_test.shape[1], 1)"
      ],
      "execution_count": 12,
      "outputs": []
    },
    {
      "cell_type": "code",
      "metadata": {
        "id": "Z3f90lqUprhS"
      },
      "source": [
        "from tensorflow.keras.models import Sequential\n",
        "from tensorflow.keras.layers import Dense\n",
        "from tensorflow.keras.layers import LSTM"
      ],
      "execution_count": 13,
      "outputs": []
    },
    {
      "cell_type": "markdown",
      "metadata": {
        "id": "XfuWJiO44_Xj"
      },
      "source": [
        "Create the Stacked LSTM model"
      ]
    },
    {
      "cell_type": "code",
      "metadata": {
        "id": "KBnktkkCu7Gx"
      },
      "source": [
        "model = Sequential()\n",
        "model.add(LSTM(50, return_sequences=True,input_shape=(100,1)))\n",
        "model.add(LSTM(50, return_sequences=True))\n",
        "model.add(LSTM(50))\n",
        "model.add(Dense(1))\n",
        "model.compile(loss='mean_squared_error', optimizer='adam')"
      ],
      "execution_count": 14,
      "outputs": []
    },
    {
      "cell_type": "code",
      "metadata": {
        "colab": {
          "base_uri": "https://localhost:8080/"
        },
        "id": "j7gFRIwJv8jK",
        "outputId": "3830e661-7247-4d2d-ed5a-75a799947b87"
      },
      "source": [
        "model.summary()"
      ],
      "execution_count": 15,
      "outputs": [
        {
          "output_type": "stream",
          "name": "stdout",
          "text": [
            "Model: \"sequential\"\n",
            "_________________________________________________________________\n",
            " Layer (type)                Output Shape              Param #   \n",
            "=================================================================\n",
            " lstm (LSTM)                 (None, 100, 50)           10400     \n",
            "                                                                 \n",
            " lstm_1 (LSTM)               (None, 100, 50)           20200     \n",
            "                                                                 \n",
            " lstm_2 (LSTM)               (None, 50)                20200     \n",
            "                                                                 \n",
            " dense (Dense)               (None, 1)                 51        \n",
            "                                                                 \n",
            "=================================================================\n",
            "Total params: 50,851\n",
            "Trainable params: 50,851\n",
            "Non-trainable params: 0\n",
            "_________________________________________________________________\n"
          ]
        }
      ]
    },
    {
      "cell_type": "code",
      "metadata": {
        "colab": {
          "base_uri": "https://localhost:8080/"
        },
        "id": "OMCmJr0EweId",
        "outputId": "8d0bb5f9-d304-4ca2-fd15-e2499937ec9a"
      },
      "source": [
        "model.fit(X_train,y_train, validation_data=(X_test, y_test), epochs=100, batch_size=64, verbose=1)"
      ],
      "execution_count": 16,
      "outputs": [
        {
          "output_type": "stream",
          "name": "stdout",
          "text": [
            "Epoch 1/100\n",
            "20/20 [==============================] - 11s 264ms/step - loss: 0.0116 - val_loss: 0.0252\n",
            "Epoch 2/100\n",
            "20/20 [==============================] - 4s 196ms/step - loss: 0.0017 - val_loss: 0.0050\n",
            "Epoch 3/100\n",
            "20/20 [==============================] - 4s 197ms/step - loss: 8.9158e-04 - val_loss: 0.0038\n",
            "Epoch 4/100\n",
            "20/20 [==============================] - 4s 197ms/step - loss: 7.8141e-04 - val_loss: 0.0055\n",
            "Epoch 5/100\n",
            "20/20 [==============================] - 4s 198ms/step - loss: 8.0070e-04 - val_loss: 0.0034\n",
            "Epoch 6/100\n",
            "20/20 [==============================] - 4s 197ms/step - loss: 7.4283e-04 - val_loss: 0.0051\n",
            "Epoch 7/100\n",
            "20/20 [==============================] - 4s 199ms/step - loss: 7.3416e-04 - val_loss: 0.0037\n",
            "Epoch 8/100\n",
            "20/20 [==============================] - 4s 203ms/step - loss: 7.3569e-04 - val_loss: 0.0023\n",
            "Epoch 9/100\n",
            "20/20 [==============================] - 4s 204ms/step - loss: 7.0158e-04 - val_loss: 0.0034\n",
            "Epoch 10/100\n",
            "20/20 [==============================] - 4s 202ms/step - loss: 6.6006e-04 - val_loss: 0.0040\n",
            "Epoch 11/100\n",
            "20/20 [==============================] - 4s 196ms/step - loss: 6.4809e-04 - val_loss: 0.0046\n",
            "Epoch 12/100\n",
            "20/20 [==============================] - 4s 198ms/step - loss: 6.3887e-04 - val_loss: 0.0071\n",
            "Epoch 13/100\n",
            "20/20 [==============================] - 4s 199ms/step - loss: 6.5525e-04 - val_loss: 0.0074\n",
            "Epoch 14/100\n",
            "20/20 [==============================] - 4s 202ms/step - loss: 6.4663e-04 - val_loss: 0.0023\n",
            "Epoch 15/100\n",
            "20/20 [==============================] - 4s 205ms/step - loss: 8.0959e-04 - val_loss: 0.0048\n",
            "Epoch 16/100\n",
            "20/20 [==============================] - 4s 204ms/step - loss: 5.7984e-04 - val_loss: 0.0079\n",
            "Epoch 17/100\n",
            "20/20 [==============================] - 4s 205ms/step - loss: 5.7951e-04 - val_loss: 0.0067\n",
            "Epoch 18/100\n",
            "20/20 [==============================] - 4s 209ms/step - loss: 5.8501e-04 - val_loss: 0.0066\n",
            "Epoch 19/100\n",
            "20/20 [==============================] - 4s 202ms/step - loss: 5.3768e-04 - val_loss: 0.0058\n",
            "Epoch 20/100\n",
            "20/20 [==============================] - 4s 206ms/step - loss: 5.6433e-04 - val_loss: 0.0058\n",
            "Epoch 21/100\n",
            "20/20 [==============================] - 4s 203ms/step - loss: 5.2188e-04 - val_loss: 0.0040\n",
            "Epoch 22/100\n",
            "20/20 [==============================] - 4s 216ms/step - loss: 5.4884e-04 - val_loss: 0.0088\n",
            "Epoch 23/100\n",
            "20/20 [==============================] - 4s 207ms/step - loss: 4.9724e-04 - val_loss: 0.0067\n",
            "Epoch 24/100\n",
            "20/20 [==============================] - 4s 204ms/step - loss: 5.1064e-04 - val_loss: 0.0077\n",
            "Epoch 25/100\n",
            "20/20 [==============================] - 4s 202ms/step - loss: 4.7612e-04 - val_loss: 0.0078\n",
            "Epoch 26/100\n",
            "20/20 [==============================] - 4s 202ms/step - loss: 5.1628e-04 - val_loss: 0.0045\n",
            "Epoch 27/100\n",
            "20/20 [==============================] - 4s 201ms/step - loss: 5.1022e-04 - val_loss: 0.0078\n",
            "Epoch 28/100\n",
            "20/20 [==============================] - 4s 199ms/step - loss: 4.5446e-04 - val_loss: 0.0094\n",
            "Epoch 29/100\n",
            "20/20 [==============================] - 4s 204ms/step - loss: 4.5681e-04 - val_loss: 0.0061\n",
            "Epoch 30/100\n",
            "20/20 [==============================] - 4s 207ms/step - loss: 4.6382e-04 - val_loss: 0.0088\n",
            "Epoch 31/100\n",
            "20/20 [==============================] - 4s 207ms/step - loss: 4.8902e-04 - val_loss: 0.0090\n",
            "Epoch 32/100\n",
            "20/20 [==============================] - 4s 202ms/step - loss: 4.2780e-04 - val_loss: 0.0055\n",
            "Epoch 33/100\n",
            "20/20 [==============================] - 4s 205ms/step - loss: 4.1333e-04 - val_loss: 0.0058\n",
            "Epoch 34/100\n",
            "20/20 [==============================] - 4s 204ms/step - loss: 4.0577e-04 - val_loss: 0.0057\n",
            "Epoch 35/100\n",
            "20/20 [==============================] - 4s 205ms/step - loss: 4.0069e-04 - val_loss: 0.0071\n",
            "Epoch 36/100\n",
            "20/20 [==============================] - 4s 201ms/step - loss: 4.4347e-04 - val_loss: 0.0031\n",
            "Epoch 37/100\n",
            "20/20 [==============================] - 4s 202ms/step - loss: 4.5733e-04 - val_loss: 0.0070\n",
            "Epoch 38/100\n",
            "20/20 [==============================] - 4s 213ms/step - loss: 3.9401e-04 - val_loss: 0.0056\n",
            "Epoch 39/100\n",
            "20/20 [==============================] - 4s 200ms/step - loss: 3.6932e-04 - val_loss: 0.0063\n",
            "Epoch 40/100\n",
            "20/20 [==============================] - 4s 200ms/step - loss: 3.6073e-04 - val_loss: 0.0036\n",
            "Epoch 41/100\n",
            "20/20 [==============================] - 4s 201ms/step - loss: 3.6769e-04 - val_loss: 0.0075\n",
            "Epoch 42/100\n",
            "20/20 [==============================] - 4s 204ms/step - loss: 3.7945e-04 - val_loss: 0.0024\n",
            "Epoch 43/100\n",
            "20/20 [==============================] - 4s 200ms/step - loss: 3.4093e-04 - val_loss: 0.0032\n",
            "Epoch 44/100\n",
            "20/20 [==============================] - 4s 200ms/step - loss: 3.3687e-04 - val_loss: 0.0052\n",
            "Epoch 45/100\n",
            "20/20 [==============================] - 4s 199ms/step - loss: 3.4629e-04 - val_loss: 0.0033\n",
            "Epoch 46/100\n",
            "20/20 [==============================] - 4s 202ms/step - loss: 3.3214e-04 - val_loss: 0.0023\n",
            "Epoch 47/100\n",
            "20/20 [==============================] - 4s 204ms/step - loss: 3.5151e-04 - val_loss: 0.0037\n",
            "Epoch 48/100\n",
            "20/20 [==============================] - 4s 202ms/step - loss: 3.7502e-04 - val_loss: 0.0076\n",
            "Epoch 49/100\n",
            "20/20 [==============================] - 4s 202ms/step - loss: 3.8198e-04 - val_loss: 0.0035\n",
            "Epoch 50/100\n",
            "20/20 [==============================] - 4s 204ms/step - loss: 3.2377e-04 - val_loss: 0.0042\n",
            "Epoch 51/100\n",
            "20/20 [==============================] - 4s 203ms/step - loss: 3.0642e-04 - val_loss: 0.0063\n",
            "Epoch 52/100\n",
            "20/20 [==============================] - 4s 200ms/step - loss: 3.4845e-04 - val_loss: 0.0028\n",
            "Epoch 53/100\n",
            "20/20 [==============================] - 4s 208ms/step - loss: 3.0236e-04 - val_loss: 0.0021\n",
            "Epoch 54/100\n",
            "20/20 [==============================] - 4s 204ms/step - loss: 3.2968e-04 - val_loss: 0.0049\n",
            "Epoch 55/100\n",
            "20/20 [==============================] - 4s 203ms/step - loss: 2.9462e-04 - val_loss: 0.0033\n",
            "Epoch 56/100\n",
            "20/20 [==============================] - 4s 206ms/step - loss: 2.7090e-04 - val_loss: 0.0064\n",
            "Epoch 57/100\n",
            "20/20 [==============================] - 4s 202ms/step - loss: 3.9988e-04 - val_loss: 0.0029\n",
            "Epoch 58/100\n",
            "20/20 [==============================] - 4s 202ms/step - loss: 2.8260e-04 - val_loss: 0.0036\n",
            "Epoch 59/100\n",
            "20/20 [==============================] - 4s 205ms/step - loss: 2.6006e-04 - val_loss: 0.0028\n",
            "Epoch 60/100\n",
            "20/20 [==============================] - 4s 206ms/step - loss: 2.5164e-04 - val_loss: 0.0024\n",
            "Epoch 61/100\n",
            "20/20 [==============================] - 4s 208ms/step - loss: 2.4640e-04 - val_loss: 0.0025\n",
            "Epoch 62/100\n",
            "20/20 [==============================] - 4s 207ms/step - loss: 2.4239e-04 - val_loss: 0.0035\n",
            "Epoch 63/100\n",
            "20/20 [==============================] - 4s 202ms/step - loss: 2.6278e-04 - val_loss: 0.0018\n",
            "Epoch 64/100\n",
            "20/20 [==============================] - 4s 203ms/step - loss: 2.4394e-04 - val_loss: 0.0034\n",
            "Epoch 65/100\n",
            "20/20 [==============================] - 4s 203ms/step - loss: 2.5747e-04 - val_loss: 0.0018\n",
            "Epoch 66/100\n",
            "20/20 [==============================] - 4s 204ms/step - loss: 2.2701e-04 - val_loss: 0.0026\n",
            "Epoch 67/100\n",
            "20/20 [==============================] - 4s 201ms/step - loss: 2.2423e-04 - val_loss: 0.0018\n",
            "Epoch 68/100\n",
            "20/20 [==============================] - 4s 200ms/step - loss: 2.2920e-04 - val_loss: 0.0033\n",
            "Epoch 69/100\n",
            "20/20 [==============================] - 4s 203ms/step - loss: 2.1892e-04 - val_loss: 0.0022\n",
            "Epoch 70/100\n",
            "20/20 [==============================] - 4s 200ms/step - loss: 2.0933e-04 - val_loss: 0.0012\n",
            "Epoch 71/100\n",
            "20/20 [==============================] - 4s 199ms/step - loss: 2.0675e-04 - val_loss: 5.3558e-04\n",
            "Epoch 72/100\n",
            "20/20 [==============================] - 4s 203ms/step - loss: 2.7536e-04 - val_loss: 0.0011\n",
            "Epoch 73/100\n",
            "20/20 [==============================] - 4s 199ms/step - loss: 2.2943e-04 - val_loss: 0.0017\n",
            "Epoch 74/100\n",
            "20/20 [==============================] - 4s 203ms/step - loss: 2.1707e-04 - val_loss: 0.0021\n",
            "Epoch 75/100\n",
            "20/20 [==============================] - 4s 206ms/step - loss: 2.0663e-04 - val_loss: 0.0025\n",
            "Epoch 76/100\n",
            "20/20 [==============================] - 4s 201ms/step - loss: 2.0130e-04 - val_loss: 0.0020\n",
            "Epoch 77/100\n",
            "20/20 [==============================] - 4s 201ms/step - loss: 1.9090e-04 - val_loss: 0.0017\n",
            "Epoch 78/100\n",
            "20/20 [==============================] - 4s 203ms/step - loss: 1.8806e-04 - val_loss: 0.0013\n",
            "Epoch 79/100\n",
            "20/20 [==============================] - 4s 207ms/step - loss: 2.1018e-04 - val_loss: 0.0019\n",
            "Epoch 80/100\n",
            "20/20 [==============================] - 4s 205ms/step - loss: 1.9141e-04 - val_loss: 7.6998e-04\n",
            "Epoch 81/100\n",
            "20/20 [==============================] - 4s 203ms/step - loss: 2.1901e-04 - val_loss: 0.0018\n",
            "Epoch 82/100\n",
            "20/20 [==============================] - 4s 204ms/step - loss: 1.7431e-04 - val_loss: 0.0025\n",
            "Epoch 83/100\n",
            "20/20 [==============================] - 4s 204ms/step - loss: 2.1689e-04 - val_loss: 0.0039\n",
            "Epoch 84/100\n",
            "20/20 [==============================] - 4s 204ms/step - loss: 2.1924e-04 - val_loss: 0.0021\n",
            "Epoch 85/100\n",
            "20/20 [==============================] - 4s 203ms/step - loss: 1.6764e-04 - val_loss: 0.0019\n",
            "Epoch 86/100\n",
            "20/20 [==============================] - 4s 203ms/step - loss: 1.6786e-04 - val_loss: 0.0026\n",
            "Epoch 87/100\n",
            "20/20 [==============================] - 4s 203ms/step - loss: 1.6402e-04 - val_loss: 0.0028\n",
            "Epoch 88/100\n",
            "20/20 [==============================] - 4s 203ms/step - loss: 1.7359e-04 - val_loss: 0.0013\n",
            "Epoch 89/100\n",
            "20/20 [==============================] - 4s 205ms/step - loss: 1.7939e-04 - val_loss: 6.9191e-04\n",
            "Epoch 90/100\n",
            "20/20 [==============================] - 4s 205ms/step - loss: 2.2750e-04 - val_loss: 7.8656e-04\n",
            "Epoch 91/100\n",
            "20/20 [==============================] - 4s 205ms/step - loss: 1.7660e-04 - val_loss: 0.0023\n",
            "Epoch 92/100\n",
            "20/20 [==============================] - 4s 203ms/step - loss: 1.6282e-04 - val_loss: 0.0039\n",
            "Epoch 93/100\n",
            "20/20 [==============================] - 4s 202ms/step - loss: 2.1982e-04 - val_loss: 0.0018\n",
            "Epoch 94/100\n",
            "20/20 [==============================] - 4s 206ms/step - loss: 1.6464e-04 - val_loss: 0.0022\n",
            "Epoch 95/100\n",
            "20/20 [==============================] - 4s 210ms/step - loss: 1.5029e-04 - val_loss: 0.0020\n",
            "Epoch 96/100\n",
            "20/20 [==============================] - 4s 212ms/step - loss: 1.5790e-04 - val_loss: 0.0013\n",
            "Epoch 97/100\n",
            "20/20 [==============================] - 4s 210ms/step - loss: 1.6372e-04 - val_loss: 0.0010\n",
            "Epoch 98/100\n",
            "20/20 [==============================] - 4s 202ms/step - loss: 1.6098e-04 - val_loss: 9.4094e-04\n",
            "Epoch 99/100\n",
            "20/20 [==============================] - 4s 205ms/step - loss: 1.4105e-04 - val_loss: 0.0014\n",
            "Epoch 100/100\n",
            "20/20 [==============================] - 4s 205ms/step - loss: 1.5056e-04 - val_loss: 0.0018\n"
          ]
        },
        {
          "output_type": "execute_result",
          "data": {
            "text/plain": [
              "<keras.callbacks.History at 0x7fd3de18c190>"
            ]
          },
          "metadata": {},
          "execution_count": 16
        }
      ]
    },
    {
      "cell_type": "code",
      "metadata": {
        "colab": {
          "base_uri": "https://localhost:8080/"
        },
        "id": "sY41vZkSzudD",
        "outputId": "05607595-0ad3-4d58-d2ec-99244f02856e"
      },
      "source": [
        "import tensorflow as tf\n",
        "print(tf.__version__)"
      ],
      "execution_count": null,
      "outputs": [
        {
          "output_type": "stream",
          "name": "stdout",
          "text": [
            "2.7.0\n"
          ]
        }
      ]
    },
    {
      "cell_type": "markdown",
      "metadata": {
        "id": "EFoWMJ6g5MSS"
      },
      "source": [
        "Prediction"
      ]
    },
    {
      "cell_type": "code",
      "metadata": {
        "id": "Z5BkRW6HxyVF"
      },
      "source": [
        "### Lets Do the prediction and check performance metrics\n",
        "train_predict=model.predict(X_train)\n",
        "test_predict=model.predict(X_test)"
      ],
      "execution_count": 17,
      "outputs": []
    },
    {
      "cell_type": "code",
      "metadata": {
        "id": "ayfMwOydzJJg"
      },
      "source": [
        "##Transformback to original form\n",
        "train_predict=scaler.inverse_transform(train_predict)\n",
        "test_predict=scaler.inverse_transform(test_predict)"
      ],
      "execution_count": 18,
      "outputs": []
    },
    {
      "cell_type": "code",
      "metadata": {
        "colab": {
          "base_uri": "https://localhost:8080/"
        },
        "id": "FvTpYfUIzM9D",
        "outputId": "ed6878f6-5e45-4328-87db-fa93996c5ad0"
      },
      "source": [
        "### Calculate RMSE performance metrics\n",
        "import math\n",
        "from sklearn.metrics import mean_squared_error\n",
        "math.sqrt(mean_squared_error(y_train,train_predict))"
      ],
      "execution_count": 19,
      "outputs": [
        {
          "output_type": "execute_result",
          "data": {
            "text/plain": [
              "133.3315370082756"
            ]
          },
          "metadata": {},
          "execution_count": 19
        }
      ]
    },
    {
      "cell_type": "code",
      "metadata": {
        "id": "zJmcWy9RzRTF",
        "colab": {
          "base_uri": "https://localhost:8080/"
        },
        "outputId": "bc483e81-5a45-4f55-f4b4-73e25c7493ae"
      },
      "source": [
        "### Test Data RMSE\n",
        "math.sqrt(mean_squared_error(y_test,test_predict))"
      ],
      "execution_count": 20,
      "outputs": [
        {
          "output_type": "execute_result",
          "data": {
            "text/plain": [
              "193.45364270798777"
            ]
          },
          "metadata": {},
          "execution_count": 20
        }
      ]
    },
    {
      "cell_type": "code",
      "metadata": {
        "id": "chhhebpszUEj",
        "colab": {
          "base_uri": "https://localhost:8080/",
          "height": 265
        },
        "outputId": "e82fa498-b68e-4aba-da3a-81f0378c3384"
      },
      "source": [
        "### Plotting \n",
        "# shift train predictions for plotting\n",
        "look_back=100\n",
        "trainPredictPlot = numpy.empty_like(df1)\n",
        "trainPredictPlot[:, :] = np.nan\n",
        "trainPredictPlot[look_back:len(train_predict)+look_back, :] = train_predict\n",
        "# shift test predictions for plotting\n",
        "testPredictPlot = numpy.empty_like(df1)\n",
        "testPredictPlot[:, :] = numpy.nan\n",
        "testPredictPlot[len(train_predict)+(look_back*2)+1:len(df1)-1, :] = test_predict\n",
        "# plot baseline and predictions\n",
        "plt.plot(scaler.inverse_transform(df1))\n",
        "plt.plot(trainPredictPlot)\n",
        "plt.plot(testPredictPlot)\n",
        "plt.show()"
      ],
      "execution_count": 21,
      "outputs": [
        {
          "output_type": "display_data",
          "data": {
            "image/png": "[encoded data removed]",
            "text/plain": [
              "<Figure size 432x288 with 1 Axes>"
            ]
          },
          "metadata": {
            "needs_background": "light"
          }
        }
      ]
    },
    {
      "cell_type": "code",
      "metadata": {
        "id": "rBI87MeNzaSl",
        "colab": {
          "base_uri": "https://localhost:8080/"
        },
        "outputId": "ac5acf4e-0244-4156-8ad6-0d0538ade68b"
      },
      "source": [
        "len(test_data)"
      ],
      "execution_count": 22,
      "outputs": [
        {
          "output_type": "execute_result",
          "data": {
            "text/plain": [
              "713"
            ]
          },
          "metadata": {},
          "execution_count": 22
        }
      ]
    },
    {
      "cell_type": "code",
      "metadata": {
        "id": "CZt6uDyPzhaZ",
        "colab": {
          "base_uri": "https://localhost:8080/"
        },
        "outputId": "d35a1a28-c5bf-4541-d5a6-dc274d594147"
      },
      "source": [
        "x_input=test_data[341:].reshape(1,-1)\n",
        "x_input.shape"
      ],
      "execution_count": 23,
      "outputs": [
        {
          "output_type": "execute_result",
          "data": {
            "text/plain": [
              "(1, 372)"
            ]
          },
          "metadata": {},
          "execution_count": 23
        }
      ]
    },
    {
      "cell_type": "code",
      "metadata": {
        "id": "n4CWYFwozkb6"
      },
      "source": [
        "temp_input=list(x_input)\n",
        "temp_input=temp_input[0].tolist()"
      ],
      "execution_count": 24,
      "outputs": []
    },
    {
      "cell_type": "code",
      "metadata": {
        "id": "RA-UtSowznSk",
        "colab": {
          "base_uri": "https://localhost:8080/"
        },
        "outputId": "89cae919-8935-4801-a58c-09fa0701b40d"
      },
      "source": [
        "temp_input"
      ],
      "execution_count": 25,
      "outputs": [
        {
          "output_type": "execute_result",
          "data": {
            "text/plain": [
              "[0.28431372549019607,\n",
              " 0.289828431372549,\n",
              " 0.29289215686274506,\n",
              " 0.29452614379084974,\n",
              " 0.28451797385620914,\n",
              " 0.28594771241830064,\n",
              " 0.29595588235294124,\n",
              " 0.2892156862745098,\n",
              " 0.284109477124183,\n",
              " 0.2798202614379084,\n",
              " 0.27450980392156865,\n",
              " 0.28288398692810457,\n",
              " 0.29084967320261434,\n",
              " 0.28737745098039225,\n",
              " 0.29003267973856206,\n",
              " 0.2890114379084967,\n",
              " 0.2973856209150326,\n",
              " 0.2906454248366013,\n",
              " 0.2947303921568627,\n",
              " 0.31352124183006536,\n",
              " 0.3073937908496731,\n",
              " 0.3039215686274509,\n",
              " 0.29146241830065367,\n",
              " 0.292687908496732,\n",
              " 0.29861111111111116,\n",
              " 0.3018790849673202,\n",
              " 0.298406862745098,\n",
              " 0.29289215686274506,\n",
              " 0.30085784313725483,\n",
              " 0.3002450980392156,\n",
              " 0.29370915032679734,\n",
              " 0.2718545751633987,\n",
              " 0.2800245098039216,\n",
              " 0.27308006535947715,\n",
              " 0.2606209150326797,\n",
              " 0.24816176470588225,\n",
              " 0.2536764705882353,\n",
              " 0.26940359477124187,\n",
              " 0.26327614379084974,\n",
              " 0.26388888888888895,\n",
              " 0.27961601307189543,\n",
              " 0.2918709150326797,\n",
              " 0.3018790849673202,\n",
              " 0.30228758169934633,\n",
              " 0.29432189542483655,\n",
              " 0.3047385620915033,\n",
              " 0.30085784313725483,\n",
              " 0.30004084967320266,\n",
              " 0.2906454248366013,\n",
              " 0.30841503267973847,\n",
              " 0.3165849673202614,\n",
              " 0.31924019607843135,\n",
              " 0.31556372549019607,\n",
              " 0.3082107843137255,\n",
              " 0.31004901960784315,\n",
              " 0.3098447712418301,\n",
              " 0.30147058823529416,\n",
              " 0.2867647058823529,\n",
              " 0.2712418300653594,\n",
              " 0.2785947712418301,\n",
              " 0.27593954248366015,\n",
              " 0.2847222222222222,\n",
              " 0.28860294117647056,\n",
              " 0.28227124183006536,\n",
              " 0.30718954248366015,\n",
              " 0.29575163398692805,\n",
              " 0.3137254901960784,\n",
              " 0.3496732026143792,\n",
              " 0.3617238562091504,\n",
              " 0.3790849673202614,\n",
              " 0.3858251633986929,\n",
              " 0.38092320261437906,\n",
              " 0.39236111111111116,\n",
              " 0.3790849673202614,\n",
              " 0.3848039215686274,\n",
              " 0.36907679738562094,\n",
              " 0.3727532679738561,\n",
              " 0.3637663398692811,\n",
              " 0.3684640522875817,\n",
              " 0.3727532679738561,\n",
              " 0.3572303921568628,\n",
              " 0.3602941176470589,\n",
              " 0.36192810457516345,\n",
              " 0.3535539215686274,\n",
              " 0.34375,\n",
              " 0.3500816993464052,\n",
              " 0.3492647058823529,\n",
              " 0.3656045751633986,\n",
              " 0.3474264705882353,\n",
              " 0.3314950980392156,\n",
              " 0.30657679738562094,\n",
              " 0.3400735294117646,\n",
              " 0.39950980392156865,\n",
              " 0.46119281045751637,\n",
              " 0.44791666666666663,\n",
              " 0.46343954248366015,\n",
              " 0.47058823529411764,\n",
              " 0.44485294117647056,\n",
              " 0.4722222222222223,\n",
              " 0.46282679738562094,\n",
              " 0.4589460784313726,\n",
              " 0.4468954248366013,\n",
              " 0.47426470588235303,\n",
              " 0.4781454248366013,\n",
              " 0.4765114379084967,\n",
              " 0.4589460784313726,\n",
              " 0.4728349673202614,\n",
              " 0.5106209150326797,\n",
              " 0.5098039215686274,\n",
              " 0.5145016339869282,\n",
              " 0.5241013071895425,\n",
              " 0.5355392156862746,\n",
              " 0.5161356209150327,\n",
              " 0.5355392156862746,\n",
              " 0.5294117647058824,\n",
              " 0.5406454248366014,\n",
              " 0.5524918300653594,\n",
              " 0.5422794117647058,\n",
              " 0.5361519607843137,\n",
              " 0.49101307189542487,\n",
              " 0.47263071895424835,\n",
              " 0.5053104575163399,\n",
              " 0.48059640522875813,\n",
              " 0.4991830065359477,\n",
              " 0.5100081699346406,\n",
              " 0.5126633986928104,\n",
              " 0.5065359477124183,\n",
              " 0.5249183006535947,\n",
              " 0.525531045751634,\n",
              " 0.5202205882352942,\n",
              " 0.5208333333333333,\n",
              " 0.5247140522875817,\n",
              " 0.5353349673202614,\n",
              " 0.5281862745098039,\n",
              " 0.525531045751634,\n",
              " 0.528390522875817,\n",
              " 0.514093137254902,\n",
              " 0.5051062091503268,\n",
              " 0.49897875816993464,\n",
              " 0.5257352941176471,\n",
              " 0.5079656862745099,\n",
              " 0.5263480392156863,\n",
              " 0.5700571895424836,\n",
              " 0.5957924836601308,\n",
              " 0.5964052287581699,\n",
              " 0.5998774509803922,\n",
              " 0.5939542483660131,\n",
              " 0.5896650326797386,\n",
              " 0.6280637254901961,\n",
              " 0.5884395424836601,\n",
              " 0.5863970588235294,\n",
              " 0.6515522875816994,\n",
              " 0.6339869281045752,\n",
              " 0.6268382352941176,\n",
              " 0.6770833333333333,\n",
              " 0.6942401960784315,\n",
              " 0.6985294117647058,\n",
              " 0.7310049019607843,\n",
              " 0.7922794117647058,\n",
              " 0.7851307189542482,\n",
              " 0.7888071895424837,\n",
              " 0.7918709150326797,\n",
              " 0.8078022875816993,\n",
              " 0.8026960784313726,\n",
              " 0.8447712418300655,\n",
              " 0.8139297385620914,\n",
              " 0.8421160130718954,\n",
              " 0.8276143790849675,\n",
              " 0.8092320261437909,\n",
              " 0.8129084967320261,\n",
              " 0.792483660130719,\n",
              " 0.829452614379085,\n",
              " 0.8476307189542482,\n",
              " 0.8880718954248368,\n",
              " 0.8449754901960784,\n",
              " 0.8312908496732025,\n",
              " 0.8306781045751634,\n",
              " 0.8410947712418302,\n",
              " 0.8574346405228759,\n",
              " 0.8974673202614378,\n",
              " 0.8982843137254903,\n",
              " 0.8954248366013071,\n",
              " 0.906045751633987,\n",
              " 0.9191176470588236,\n",
              " 0.917483660130719,\n",
              " 0.9217728758169936,\n",
              " 0.9618055555555556,\n",
              " 0.9475081699346404,\n",
              " 0.940359477124183,\n",
              " 0.940563725490196,\n",
              " 0.9448529411764706,\n",
              " 0.9477124183006536,\n",
              " 0.9667075163398695,\n",
              " 0.957312091503268,\n",
              " 0.9524101307189543,\n",
              " 0.9491421568627452,\n",
              " 1.0,\n",
              " 0.988766339869281,\n",
              " 0.9618055555555556,\n",
              " 0.9501633986928106,\n",
              " 0.9170751633986929,\n",
              " 0.928921568627451,\n",
              " 0.9309640522875817,\n",
              " 0.9242238562091503,\n",
              " 0.9121732026143792,\n",
              " 0.9121732026143792,\n",
              " 0.9021650326797386,\n",
              " 0.9111519607843137,\n",
              " 0.8566176470588234,\n",
              " 0.8472222222222223,\n",
              " 0.7920751633986929,\n",
              " 0.7849264705882355,\n",
              " 0.7587826797385622,\n",
              " 0.8137254901960784,\n",
              " 0.8149509803921569,\n",
              " 0.8059640522875817,\n",
              " 0.8339460784313726,\n",
              " 0.821078431372549,\n",
              " 0.8092320261437909,\n",
              " 0.7951388888888891,\n",
              " 0.7638888888888888,\n",
              " 0.7430555555555556,\n",
              " 0.758374183006536,\n",
              " 0.7401960784313724,\n",
              " 0.7751225490196079,\n",
              " 0.7865604575163399,\n",
              " 0.792687908496732,\n",
              " 0.7947303921568627,\n",
              " 0.7920751633986929,\n",
              " 0.7953431372549018,\n",
              " 0.7892156862745097,\n",
              " 0.7677696078431371,\n",
              " 0.7861519607843137,\n",
              " 0.7655228758169936,\n",
              " 0.7969771241830066,\n",
              " 0.8057598039215685,\n",
              " 0.806985294117647,\n",
              " 0.8114787581699348,\n",
              " 0.7820669934640523,\n",
              " 0.7338643790849675,\n",
              " 0.7397875816993464,\n",
              " 0.744485294117647,\n",
              " 0.7267156862745099,\n",
              " 0.7228349673202614,\n",
              " 0.7404003267973855,\n",
              " 0.746936274509804,\n",
              " 0.7263071895424837,\n",
              " 0.8006535947712419,\n",
              " 0.7918709150326797,\n",
              " 0.7732843137254901,\n",
              " 0.7845179738562091,\n",
              " 0.7832924836601307,\n",
              " 0.8041258169934642,\n",
              " 0.7947303921568627,\n",
              " 0.7879901960784315,\n",
              " 0.7879901960784315,\n",
              " 0.7947303921568627,\n",
              " 0.8116830065359477,\n",
              " 0.8169934640522876,\n",
              " 0.8298611111111112,\n",
              " 0.8384395424836601,\n",
              " 0.8388480392156863,\n",
              " 0.8278186274509804,\n",
              " 0.8259803921568627,\n",
              " 0.8502859477124185,\n",
              " 0.8588643790849673,\n",
              " 0.8625408496732028,\n",
              " 0.8848039215686274,\n",
              " 0.8651960784313726,\n",
              " 0.8402777777777777,\n",
              " 0.8449754901960784,\n",
              " 0.8711192810457515,\n",
              " 0.8527369281045751,\n",
              " 0.8621323529411764,\n",
              " 0.8345588235294117,\n",
              " 0.84375,\n",
              " 0.7146650326797386,\n",
              " 0.6605392156862745,\n",
              " 0.6542075163398693,\n",
              " 0.6803513071895424,\n",
              " 0.6689133986928104,\n",
              " 0.6642156862745099,\n",
              " 0.678921568627451,\n",
              " 0.6913807189542482,\n",
              " 0.7089460784313726,\n",
              " 0.7226307189542485,\n",
              " 0.7340686274509802,\n",
              " 0.7212009803921569,\n",
              " 0.749795751633987,\n",
              " 0.7689950980392157,\n",
              " 0.7446895424836601,\n",
              " 0.7120098039215685,\n",
              " 0.7467320261437909,\n",
              " 0.7549019607843137,\n",
              " 0.7604166666666667,\n",
              " 0.7598039215686274,\n",
              " 0.7465277777777777,\n",
              " 0.7624591503267975,\n",
              " 0.7706290849673203,\n",
              " 0.8041258169934642,\n",
              " 0.7810457516339868,\n",
              " 0.7941176470588236,\n",
              " 0.7602124183006536,\n",
              " 0.7348856209150327,\n",
              " 0.7240604575163399,\n",
              " 0.7399918300653596,\n",
              " 0.749795751633987,\n",
              " 0.7614379084967322,\n",
              " 0.7542892156862746,\n",
              " 0.7475490196078431,\n",
              " 0.769607843137255,\n",
              " 0.7495915032679739,\n",
              " 0.8171977124183007,\n",
              " 0.8020833333333335,\n",
              " 0.7773692810457518,\n",
              " 0.7571486928104576,\n",
              " 0.7937091503267975,\n",
              " 0.7916666666666667,\n",
              " 0.7714460784313726,\n",
              " 0.7526552287581698,\n",
              " 0.7269199346405228,\n",
              " 0.6629901960784313,\n",
              " 0.6819852941176472,\n",
              " 0.6441993464052288,\n",
              " 0.6215277777777778,\n",
              " 0.6439950980392156,\n",
              " 0.6631944444444445,\n",
              " 0.6754493464052289,\n",
              " 0.6370506535947713,\n",
              " 0.6460375816993464,\n",
              " 0.6589052287581699,\n",
              " 0.6587009803921569,\n",
              " 0.6779003267973858,\n",
              " 0.6319444444444445,\n",
              " 0.6311274509803921,\n",
              " 0.627859477124183,\n",
              " 0.647671568627451,\n",
              " 0.6399101307189542,\n",
              " 0.6348039215686274,\n",
              " 0.6386846405228759,\n",
              " 0.6233660130718954,\n",
              " 0.627450980392157,\n",
              " 0.6397058823529412,\n",
              " 0.6470588235294118,\n",
              " 0.661968954248366,\n",
              " 0.6707516339869282,\n",
              " 0.6519607843137255,\n",
              " 0.6311274509803921,\n",
              " 0.6129493464052288,\n",
              " 0.6376633986928105,\n",
              " 0.6225490196078431,\n",
              " 0.627450980392157,\n",
              " 0.6333741830065359,\n",
              " 0.6264297385620916,\n",
              " 0.6362336601307189,\n",
              " 0.5831290849673202,\n",
              " 0.5778186274509804,\n",
              " 0.5723039215686275,\n",
              " 0.5800653594771241,\n",
              " 0.5761846405228758,\n",
              " 0.5516748366013072,\n",
              " 0.5788398692810458,\n",
              " 0.625,\n",
              " 0.6358251633986928,\n",
              " 0.6294934640522877,\n",
              " 0.6288807189542484,\n",
              " 0.6276552287581699,\n",
              " 0.6223447712418301,\n",
              " 0.6337826797385621,\n",
              " 0.6262254901960784,\n",
              " 0.622140522875817,\n",
              " 0.6241830065359477]"
            ]
          },
          "metadata": {},
          "execution_count": 25
        }
      ]
    },
    {
      "cell_type": "code",
      "metadata": {
        "id": "wPilfxlx55uf"
      },
      "source": [
        ""
      ],
      "execution_count": null,
      "outputs": []
    }
  ]
}